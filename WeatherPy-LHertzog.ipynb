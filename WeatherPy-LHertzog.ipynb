{
 "cells": [
  {
   "cell_type": "markdown",
   "metadata": {},
   "source": [
    "# WeatherPy\n",
    "----\n",
    "\n",
    "#### Note\n",
    "* Instructions have been included for each segment. You do not have to follow them exactly, but they are included to help you think through the steps."
   ]
  },
  {
   "cell_type": "code",
   "execution_count": 12,
   "metadata": {
    "scrolled": true
   },
   "outputs": [],
   "source": [
    "# Dependencies and Setup\n",
    "import matplotlib.pyplot as plt\n",
    "import pandas as pd\n",
    "import numpy as np\n",
    "import requests\n",
    "import time\n",
    "import json\n",
    "from scipy.stats import linregress\n",
    "\n",
    "# Import API key\n",
    "from api_keys import weather_api_key\n",
    "\n",
    "# Incorporated citipy to determine city based on latitude and longitude\n",
    "from citipy import citipy\n",
    "\n",
    "# Output File (CSV)\n",
    "output_data_file = \"../output_data/cities.csv\"\n",
    "\n",
    "# Range of latitudes and longitudes\n",
    "lat_range = (-90, 90)\n",
    "lng_range = (-180, 180)"
   ]
  },
  {
   "cell_type": "markdown",
   "metadata": {},
   "source": [
    "## Generate Cities List"
   ]
  },
  {
   "cell_type": "code",
   "execution_count": 2,
   "metadata": {},
   "outputs": [
    {
     "data": {
      "text/plain": [
       "629"
      ]
     },
     "execution_count": 2,
     "metadata": {},
     "output_type": "execute_result"
    }
   ],
   "source": [
    "# List for holding lat_lngs and cities\n",
    "lat_lngs = []\n",
    "cities = []\n",
    "\n",
    "# Create a set of random lat and lng combinations\n",
    "lats = np.random.uniform(lat_range[0], lat_range[1], size=1500)\n",
    "lngs = np.random.uniform(lng_range[0], lng_range[1], size=1500)\n",
    "lat_lngs = zip(lats, lngs)\n",
    "\n",
    "# Identify nearest city for each lat, lng combination\n",
    "for lat_lng in lat_lngs:\n",
    "    city = citipy.nearest_city(lat_lng[0], lat_lng[1]).city_name\n",
    "    \n",
    "    # If the city is unique, then add it to a our cities list\n",
    "    if city not in cities:\n",
    "        cities.append(city)\n",
    "\n",
    "# Print the city count to confirm sufficient count\n",
    "len(cities)"
   ]
  },
  {
   "cell_type": "markdown",
   "metadata": {},
   "source": [
    "### Perform API Calls\n",
    "* Perform a weather check on each city using a series of successive API calls.\n",
    "* Include a print log of each city as it'sbeing processed (with the city number and city name).\n"
   ]
  },
  {
   "cell_type": "code",
   "execution_count": 7,
   "metadata": {
    "scrolled": true
   },
   "outputs": [
    {
     "name": "stdout",
     "output_type": "stream",
     "text": [
      "Beginning Data Retrieval\n",
      "-------------------------------\n",
      "City not found. Skipping......\n",
      "City not found. Skipping......\n",
      "City not found. Skipping......\n",
      "City not found. Skipping......\n",
      "City not found. Skipping......\n",
      "City not found. Skipping......\n",
      "City not found. Skipping......\n",
      "City not found. Skipping......\n",
      "City not found. Skipping......\n",
      "City not found. Skipping......\n",
      "City not found. Skipping......\n",
      "City not found. Skipping......\n",
      "City not found. Skipping......\n",
      "City not found. Skipping......\n",
      "City not found. Skipping......\n",
      "City not found. Skipping......\n",
      "City not found. Skipping......\n",
      "City not found. Skipping......\n",
      "City not found. Skipping......\n",
      "City not found. Skipping......\n",
      "City not found. Skipping......\n",
      "City not found. Skipping......\n",
      "City not found. Skipping......\n",
      "City not found. Skipping......\n",
      "City not found. Skipping......\n",
      "City not found. Skipping......\n",
      "City not found. Skipping......\n",
      "City not found. Skipping......\n",
      "City not found. Skipping......\n",
      "City not found. Skipping......\n",
      "City not found. Skipping......\n",
      "City not found. Skipping......\n",
      "City not found. Skipping......\n",
      "City not found. Skipping......\n",
      "City not found. Skipping......\n",
      "City not found. Skipping......\n",
      "City not found. Skipping......\n",
      "City not found. Skipping......\n",
      "City not found. Skipping......\n",
      "City not found. Skipping......\n",
      "City not found. Skipping......\n",
      "City not found. Skipping......\n",
      "City not found. Skipping......\n",
      "City not found. Skipping......\n",
      "City not found. Skipping......\n",
      "City not found. Skipping......\n",
      "City not found. Skipping......\n",
      "City not found. Skipping......\n",
      "City not found. Skipping......\n",
      "City not found. Skipping......\n",
      "City not found. Skipping......\n",
      "City not found. Skipping......\n",
      "City not found. Skipping......\n",
      "-------------------------------\n",
      "Data Retrival Complete\n",
      "--------------------------------\n"
     ]
    }
   ],
   "source": [
    "#time.sleep() bottom of for loop, measures in seconds \n",
    "\n",
    "city_name = []\n",
    "latitude = []\n",
    "longitude = []\n",
    "max_temperature = []\n",
    "humidity = []\n",
    "cloudiness = []\n",
    "wind_speed = []\n",
    "country = []\n",
    "date = []\n",
    "\n",
    "url = \"http://api.openweathermap.org/data/2.5/weather?\"\n",
    "units = \"imperial\"\n",
    "\n",
    "city_url = url + \"units=\" +units+ \"&appid=\" + weather_api_key + \"&q=\"\n",
    "\n",
    "#processing_record = 1\n",
    "\n",
    "print(f\"Beginning Data Retrieval\")\n",
    "print(f\"-------------------------------\")\n",
    "\n",
    "for city in cities: \n",
    "    \n",
    "    query_url = f\"{city_url}{city}\"\n",
    "#     print (query_url)\n",
    "    \n",
    "    try: \n",
    "        response = requests.get(query_url)\n",
    "        weather_json = response.json() \n",
    "        city_name.append(weather_json[\"name\"])\n",
    "        latitude.append(weather_json[\"coord\"][\"lat\"])\n",
    "        longitude.append(weather_json[\"coord\"][\"lon\"])\n",
    "        max_temperature.append(weather_json[\"main\"][\"temp_max\"])\n",
    "        humidity.append(weather_json[\"main\"][\"humidity\"])\n",
    "        cloudiness.append(weather_json[\"clouds\"][\"all\"])\n",
    "        wind_speed.append(weather_json[\"wind\"][\"speed\"])\n",
    "        country.append(weather_json[\"sys\"][\"country\"])\n",
    "        date.append(weather_json[\"dt\"])\n",
    "        time.sleep(1)\n",
    "        \n",
    "#processing_record += 1\n",
    "\n",
    "    except: \n",
    "        print(\"City not found. Skipping......\")\n",
    "\n",
    "print(f\"-------------------------------\")\n",
    "print(f\"Data Retrival Complete\")\n",
    "print(f\"--------------------------------\")"
   ]
  },
  {
   "cell_type": "markdown",
   "metadata": {},
   "source": [
    "### Convert Raw Data to DataFrame\n",
    "* Export the city data into a .csv.\n",
    "* Display the DataFrame"
   ]
  },
  {
   "cell_type": "code",
   "execution_count": 13,
   "metadata": {},
   "outputs": [],
   "source": [
    "#define country\n",
    "\n",
    "weather_dataframe = pd.DataFrame({\"City\": city_name, \n",
    "                                \"Latitude\": latitude, \n",
    "                                \"Longitude\": longitude, \n",
    "                                \"Max Temperature\": max_temperature,\n",
    "                                \"Humidity\": humidity,\n",
    "                                \"Cloudiness\": cloudiness,\n",
    "                                \"Wind Speed\": wind_speed,\n",
    "                                \"Country\": country,\n",
    "                                \"Date\": date})\n",
    "\n",
    "weather_dataframe.head()\n",
    "\n",
    "weather_dataframe.to_csv(output_data_file)"
   ]
  },
  {
   "cell_type": "markdown",
   "metadata": {},
   "source": [
    "## Inspect the data and remove the cities where the humidity > 100%.\n",
    "----\n",
    "Skip this step if there are no cities that have humidity > 100%. "
   ]
  },
  {
   "cell_type": "code",
   "execution_count": null,
   "metadata": {},
   "outputs": [],
   "source": [
    "#filter over 100% humidity\n",
    "#clean df with cities less than humidity \n",
    "\n",
    "weather_dataframe.loc[weather_dataframe[\"Humidity\"] > 100]\n",
    "weather_dataframe"
   ]
  },
  {
   "cell_type": "code",
   "execution_count": null,
   "metadata": {},
   "outputs": [],
   "source": [
    "#  Get the indices of cities that have humidity over 100%.\n"
   ]
  },
  {
   "cell_type": "code",
   "execution_count": null,
   "metadata": {},
   "outputs": [],
   "source": [
    "# Make a new DataFrame equal to the city data to drop all humidity outliers by index.\n",
    "# Passing \"inplace=False\" will make a copy of the city_data DataFrame, which we call \"clean_city_data\".\n"
   ]
  },
  {
   "cell_type": "code",
   "execution_count": null,
   "metadata": {},
   "outputs": [],
   "source": [
    "\n"
   ]
  },
  {
   "cell_type": "markdown",
   "metadata": {},
   "source": [
    "## Plotting the Data\n",
    "* Use proper labeling of the plots using plot titles (including date of analysis) and axes labels.\n",
    "* Save the plotted figures as .pngs."
   ]
  },
  {
   "cell_type": "markdown",
   "metadata": {},
   "source": [
    "## Latitude vs. Temperature Plot"
   ]
  },
  {
   "cell_type": "code",
   "execution_count": null,
   "metadata": {
    "scrolled": true
   },
   "outputs": [],
   "source": [
    "plt.scatter(weather_dataframe[\"Latitude\"], weather_dataframe[\"Max Temperature\"], marker = \"o\")\n",
    "\n",
    "\n",
    "plt.title(\"City Latitude vs. Max Temperature\")\n",
    "plt.ylabel(\"Maximum Temperature\")\n",
    "plt.xlabel(\"Latitude\")\n",
    "\n",
    "plt.savefig(\"latitude_temperature\")\n",
    "\n",
    "plt.show()\n"
   ]
  },
  {
   "cell_type": "markdown",
   "metadata": {},
   "source": [
    "City Latitude vs. Max Temperature analyzes the latitude, from both southern and northern hemisphere, affects the maximum temperature for those cities. From this plot we can see the city's latitude does correlate to the maximum temperature."
   ]
  },
  {
   "cell_type": "markdown",
   "metadata": {},
   "source": [
    "## Latitude vs. Humidity Plot"
   ]
  },
  {
   "cell_type": "code",
   "execution_count": null,
   "metadata": {},
   "outputs": [],
   "source": [
    "plt.scatter(weather_dataframe[\"Latitude\"], weather_dataframe[\"Humidity\"], marker = \"o\")\n",
    "\n",
    "plt.title(\"City Latitude vs. Humdidity\")\n",
    "plt.ylabel(\"Humidity\")\n",
    "plt.xlabel(\"Latitude\")\n",
    "\n",
    "plt.savefig(\"latitude_humidity\")\n",
    "\n",
    "plt.show()\n"
   ]
  },
  {
   "cell_type": "markdown",
   "metadata": {},
   "source": [
    "City Latitude vs. Humidity plot analyzes the correlation between the city's latitude and the effect on humidity (in percent). There does not appear to be a correlation between latitude and humidity."
   ]
  },
  {
   "cell_type": "markdown",
   "metadata": {},
   "source": [
    "## Latitude vs. Cloudiness Plot"
   ]
  },
  {
   "cell_type": "code",
   "execution_count": null,
   "metadata": {},
   "outputs": [],
   "source": [
    "plt.scatter(weather_dataframe[\"Latitude\"], weather_dataframe[\"Cloudiness\"], marker = \"o\")\n",
    "\n",
    "plt.title(\"City Latitude vs. Cloudiness\")\n",
    "plt.ylabel(\"Cloudiness\")\n",
    "plt.xlabel(\"Latitude\")\n",
    "\n",
    "plt.savefig(\"latitude_cloudiness\")\n",
    "\n",
    "plt.show()\n"
   ]
  },
  {
   "cell_type": "markdown",
   "metadata": {},
   "source": [
    "Latitude vs. Cloudiness plot attemps to show the relation between a city's latitue and the percent of cloud cover. \n",
    "This graph shows there is not a significant correlation between a city's latitude and the percent of cloud cover due to the city's latitude and the varying data points for cloudiness.  "
   ]
  },
  {
   "cell_type": "markdown",
   "metadata": {},
   "source": [
    "## Latitude vs. Wind Speed Plot"
   ]
  },
  {
   "cell_type": "code",
   "execution_count": null,
   "metadata": {},
   "outputs": [],
   "source": [
    "plt.scatter(weather_dataframe[\"Latitude\"], weather_dataframe[\"Wind Speed\"], marker = \"o\")\n",
    "\n",
    "plt.title(\"City Latitude vs. Wind Speed\")\n",
    "plt.ylabel(\"Wind Speed\")\n",
    "plt.xlabel(\"Latitude\")\n",
    "\n",
    "plt.savefig(\"latitude_wind\")\n",
    "\n",
    "plt.show()\n",
    " "
   ]
  },
  {
   "cell_type": "markdown",
   "metadata": {},
   "source": [
    "Latitude vs. Wind Speed scatter plot analyzes the correlation between a city's latitude and the wind speed in miles per hour. The plot demonstrates there is not a significant correlation between a city's lattitude and the wind speed. "
   ]
  },
  {
   "cell_type": "markdown",
   "metadata": {},
   "source": [
    "## Linear Regression"
   ]
  },
  {
   "cell_type": "code",
   "execution_count": null,
   "metadata": {},
   "outputs": [],
   "source": [
    "northern_hemp = weather_dataframe.loc[weather_dataframe[\"Latitude\"] >= 0.0]\n",
    "\n",
    "southern_hemp = weather_dataframe.loc[weather_dataframe[\"Latitude\"] < 0.0]\n"
   ]
  },
  {
   "cell_type": "markdown",
   "metadata": {},
   "source": [
    "####  Northern Hemisphere - Max Temp vs. Latitude Linear Regression"
   ]
  },
  {
   "cell_type": "code",
   "execution_count": null,
   "metadata": {},
   "outputs": [],
   "source": [
    "x_values = northern_hemp[\"Latitude\"]\n",
    "y_values = northern_hemp[\"Max Temperature\"]\n",
    "\n",
    "\n",
    "(slope, intercept, rvalue, pvalue, stderr) = linregress(x_values, y_values)\n",
    "regress_values = x_values * slope + intercept\n",
    "line_eq = \"y=\" + str(round(slope,2)) + \"x+\" + str(round(intercept, 2))\n",
    "\n",
    "plt.scatter(x_values, y_values)\n",
    "plt.plot(x_values, regress_values, \"r-\")\n",
    "plt.title(\"Max Temp vs Latitude Linear Regression\")\n",
    "plt.xlabel(\"Latitude\")\n",
    "plt.ylabel(\"Max Temp\")\n",
    "plt.annotate(line_eq, (8,9), fontsize = 14, color = \"black\")\n",
    "print(f\"The linear equation is: {line_eq}\")\n",
    "print(f\"The r value is: {rvalue**2}\")\n",
    "\n",
    "plt.savefig(\"latitude_temperature_northern\")\n"
   ]
  },
  {
   "cell_type": "markdown",
   "metadata": {},
   "source": [
    "The latitude of cities only in the northern hemisphere vs maximum temperature shows the effect of latitude on the maximum temperature. The r-value is high which indicates there is a significant correlation between where a city's is located and the maximum temperature that city will have. This correlation is negative stating, the increase in latitude (the further a city in from the equator in the northern hempishere) there is a decrease in temperature. "
   ]
  },
  {
   "cell_type": "markdown",
   "metadata": {},
   "source": [
    "####  Southern Hemisphere - Max Temp vs. Latitude Linear Regression"
   ]
  },
  {
   "cell_type": "code",
   "execution_count": null,
   "metadata": {},
   "outputs": [],
   "source": [
    "x_values = southern_hemp[\"Latitude\"]\n",
    "y_values = southern_hemp[\"Max Temperature\"]\n",
    "\n",
    "\n",
    "(slope, intercept, rvalue, pvalue, stderr) = linregress(x_values, y_values)\n",
    "regress_values = x_values * slope + intercept\n",
    "line_eq = \"y=\" + str(round(slope,2)) + \"x+\" + str(round(intercept, 2))\n",
    "\n",
    "plt.scatter(x_values, y_values)\n",
    "plt.plot(x_values, regress_values, \"r-\")\n",
    "plt.title(\"Max Temp vs Latitude Linear Regression\")\n",
    "plt.xlabel(\"Latitude\")\n",
    "plt.ylabel(\"Max Temp\")\n",
    "plt.annotate(line_eq, (8,9), fontsize = 14, color = \"black\")\n",
    "print(f\"The linear equation is: {line_eq}\")\n",
    "print(f\"The r value is: {rvalue**2}\")\n",
    "\n",
    "plt.savefig(\"latitude_temperature_southern\")\n"
   ]
  },
  {
   "cell_type": "markdown",
   "metadata": {},
   "source": [
    "The latitude of cities only in the southern hemisphere vs maximum temperature shows the effect of latitude on the maximum temperature. The r-value is high which indicates there is a significant correlation between where a city's is located and the maximum temperature that city will have. This correlation is positive stating, the closer a city is to the equator, the higher the maximum temperature with be for that city.  "
   ]
  },
  {
   "cell_type": "markdown",
   "metadata": {},
   "source": [
    "####  Northern Hemisphere - Humidity (%) vs. Latitude Linear Regression"
   ]
  },
  {
   "cell_type": "code",
   "execution_count": null,
   "metadata": {},
   "outputs": [],
   "source": [
    "x_values = northern_hemp[\"Latitude\"]\n",
    "y_values = northern_hemp[\"Humidity\"]\n",
    "\n",
    "\n",
    "(slope, intercept, rvalue, pvalue, stderr) = linregress(x_values, y_values)\n",
    "regress_values = x_values * slope + intercept\n",
    "line_eq = \"y=\" + str(round(slope,2)) + \"x+\" + str(round(intercept, 2))\n",
    "\n",
    "plt.scatter(x_values, y_values)\n",
    "plt.plot(x_values, regress_values, \"r-\")\n",
    "plt.title(\"Humidity vs Latitude Linear Regression\")\n",
    "plt.xlabel(\"Latitude\")\n",
    "plt.ylabel(\"Humidity\")\n",
    "plt.annotate(line_eq, (8,9), fontsize = 14, color = \"black\")\n",
    "print(f\"The linear equation is: {line_eq}\")\n",
    "print(f\"The r value is: {rvalue**2}\")\n",
    "\n",
    "plt.savefig(\"latitude_humidity_northern\")"
   ]
  },
  {
   "cell_type": "markdown",
   "metadata": {},
   "source": [
    "Humidity vs Latitude linear regression shows the effect a city's latitude to the humidity of that city, specially only in the northern hemisphere. These variables have a relatively low r-value which states there is some correlation; however, there is a chance for outliers and cities to not fit within the linear regression. "
   ]
  },
  {
   "cell_type": "markdown",
   "metadata": {},
   "source": [
    "####  Southern Hemisphere - Humidity (%) vs. Latitude Linear Regression"
   ]
  },
  {
   "cell_type": "code",
   "execution_count": null,
   "metadata": {},
   "outputs": [],
   "source": [
    "x_values = southern_hemp[\"Latitude\"]\n",
    "y_values = southern_hemp[\"Humidity\"]\n",
    "\n",
    "\n",
    "(slope, intercept, rvalue, pvalue, stderr) = linregress(x_values, y_values)\n",
    "regress_values = x_values * slope + intercept\n",
    "line_eq = \"y=\" + str(round(slope,2)) + \"x+\" + str(round(intercept, 2))\n",
    "\n",
    "plt.scatter(x_values, y_values)\n",
    "plt.plot(x_values, regress_values, \"r-\")\n",
    "plt.title(\"Humidity vs Latitude Linear Regression\")\n",
    "plt.xlabel(\"Latitude\")\n",
    "plt.ylabel(\"Humidity\")\n",
    "plt.annotate(line_eq, (8,9), fontsize = 14, color = \"black\")\n",
    "print(f\"The linear equation is: {line_eq}\")\n",
    "print(f\"The r value is: {rvalue**2}\")\n",
    "\n",
    "plt.savefig(\"latitude_humidity_southern\")"
   ]
  },
  {
   "cell_type": "markdown",
   "metadata": {},
   "source": [
    "Humidity vs Latitude linear regression shows the effect a city's latitude to the humidity of that city, specially only in the southern hemisphere. These variables have a r-value of almost zero which states there is almost no correlation between where a city is located in the southern hemisphere and the humdity of that city. "
   ]
  },
  {
   "cell_type": "markdown",
   "metadata": {},
   "source": [
    "####  Northern Hemisphere - Cloudiness (%) vs. Latitude Linear Regression"
   ]
  },
  {
   "cell_type": "code",
   "execution_count": null,
   "metadata": {},
   "outputs": [],
   "source": [
    "x_values = northern_hemp[\"Cloudiness\"]\n",
    "y_values = northern_hemp[\"Max Temperature\"]\n",
    "\n",
    "\n",
    "(slope, intercept, rvalue, pvalue, stderr) = linregress(x_values, y_values)\n",
    "regress_values = x_values * slope + intercept\n",
    "line_eq = \"y=\" + str(round(slope,2)) + \"x+\" + str(round(intercept, 2))\n",
    "\n",
    "plt.scatter(x_values, y_values)\n",
    "plt.plot(x_values, regress_values, \"r-\")\n",
    "plt.title(\"Cloudiness vs Latitude Linear Regression\")\n",
    "plt.xlabel(\"Latitude\")\n",
    "plt.ylabel(\"Cloudiness\")\n",
    "plt.annotate(line_eq, (8,9), fontsize = 14, color = \"black\")\n",
    "print(f\"The linear equation is: {line_eq}\")\n",
    "print(f\"The r value is: {rvalue**2}\")\n",
    "\n",
    "plt.savefig(\"latitude_cloudiness_northern\")"
   ]
  },
  {
   "cell_type": "markdown",
   "metadata": {},
   "source": [
    "Cloudiness vs. Latitude in the northern hemisphere linear regression analyzes the effect of a city's latitude in the northern hemisphere and the rate of cloudiness in that city. With a r-value of near zero this shows there is not a correlation between where a city is located in the northern hemisphere and cloudiness which may occur in that city. "
   ]
  },
  {
   "cell_type": "markdown",
   "metadata": {},
   "source": [
    "####  Southern Hemisphere - Cloudiness (%) vs. Latitude Linear Regression"
   ]
  },
  {
   "cell_type": "code",
   "execution_count": null,
   "metadata": {},
   "outputs": [],
   "source": [
    "x_values = southern_hemp[\"Latitude\"]\n",
    "y_values = southern_hemp[\"Max Temperature\"]\n",
    "\n",
    "\n",
    "(slope, intercept, rvalue, pvalue, stderr) = linregress(x_values, y_values)\n",
    "regress_values = x_values * slope + intercept\n",
    "line_eq = \"y=\" + str(round(slope,2)) + \"x+\" + str(round(intercept, 2))\n",
    "\n",
    "plt.scatter(x_values, y_values)\n",
    "plt.plot(x_values, regress_values, \"r-\")\n",
    "plt.title(\"Cloudiness vs Latitude Linear Regression\")\n",
    "plt.xlabel(\"Latitude\")\n",
    "plt.ylabel(\"Cloudiness\")\n",
    "plt.annotate(line_eq, (8,9), fontsize = 14, color = \"black\")\n",
    "print(f\"The linear equation is: {line_eq}\")\n",
    "print(f\"The r value is: {rvalue**2}\")\n",
    "\n",
    "plt.savefig(\"latitude_cloudiness_southern\")"
   ]
  },
  {
   "cell_type": "markdown",
   "metadata": {},
   "source": [
    "Cloudiness vs. Latitude in the southern hemisphere analyzes cities in the southern hemisphere's latitude and the effect on the cloudiness that city may experience. With an r-value of around .4 there is some correlation between where a city in located in the southern hemisphere and the cloud cover in that city; however, there can still be outliers and cities which do not fit into the correlation. "
   ]
  },
  {
   "cell_type": "markdown",
   "metadata": {},
   "source": [
    "####  Northern Hemisphere - Wind Speed (mph) vs. Latitude Linear Regression"
   ]
  },
  {
   "cell_type": "code",
   "execution_count": null,
   "metadata": {},
   "outputs": [],
   "source": [
    "x_values = northern_hemp[\"Latitude\"]\n",
    "y_values = northern_hemp[\"Wind Speed\"]\n",
    "\n",
    "\n",
    "(slope, intercept, rvalue, pvalue, stderr) = linregress(x_values, y_values)\n",
    "regress_values = x_values * slope + intercept\n",
    "line_eq = \"y=\" + str(round(slope,2)) + \"x+\" + str(round(intercept, 2))\n",
    "\n",
    "plt.scatter(x_values, y_values)\n",
    "plt.plot(x_values, regress_values, \"r-\")\n",
    "plt.title(\"Wind Speed vs Latitude Linear Regression\")\n",
    "plt.xlabel(\"Latitude\")\n",
    "plt.ylabel(\"Wind Speed (mph)\")\n",
    "plt.annotate(line_eq, (8,9), fontsize = 14, color = \"black\")\n",
    "print(f\"The linear equation is: {line_eq}\")\n",
    "print(f\"The r value is: {rvalue**2}\")\n",
    "\n",
    "plt.savefig(\"latitude_wind_northern\")"
   ]
  },
  {
   "cell_type": "markdown",
   "metadata": {},
   "source": [
    "Wind speed vs. latitude for cities in the northern hemisphere analyzes wind speeds for cities located in the northern hemisphere. There is almost no correlation between where a city is located in the northern hemisphere and the wind speed a city may experience. "
   ]
  },
  {
   "cell_type": "markdown",
   "metadata": {},
   "source": [
    "####  Southern Hemisphere - Wind Speed (mph) vs. Latitude Linear Regression"
   ]
  },
  {
   "cell_type": "code",
   "execution_count": null,
   "metadata": {},
   "outputs": [],
   "source": [
    "x_values = southern_hemp[\"Latitude\"]\n",
    "y_values = southern_hemp[\"Wind Speed\"]\n",
    "\n",
    "\n",
    "(slope, intercept, rvalue, pvalue, stderr) = linregress(x_values, y_values)\n",
    "regress_values = x_values * slope + intercept\n",
    "line_eq = \"y=\" + str(round(slope,2)) + \"x+\" + str(round(intercept, 2))\n",
    "\n",
    "plt.scatter(x_values, y_values)\n",
    "plt.plot(x_values, regress_values, \"r-\")\n",
    "plt.title(\"Wind Speed vs Latitude Linear Regression\")\n",
    "plt.xlabel(\"Latitude\")\n",
    "plt.ylabel(\"Wind Speed (mph)\")\n",
    "plt.annotate(line_eq, (8,9), fontsize = 14, color = \"black\")\n",
    "print(f\"The linear equation is: {line_eq}\")\n",
    "print(f\"The r value is: {rvalue**2}\")\n",
    "\n",
    "plt.savefig(\"latitude_wind_southern\")"
   ]
  },
  {
   "cell_type": "markdown",
   "metadata": {},
   "source": [
    "Wind speed vs. latitude in the southern hemisphere analyzes the correlation between cities located in the southern hemisphere and the wind speed in those cities. The r-value demonstrates there is a very low correlation between cities in the southern hemisphere and the wind speed of those cities; however, there is more correlation between cities in the southern hemisphere and wind speed than cities in the northern hemisphere. "
   ]
  },
  {
   "cell_type": "markdown",
   "metadata": {},
   "source": [
    "3 Observable Trends: \n",
    "1. Out of all the plots which were analyzed, where a city was located (both for northern hemisphere and southern hemisphere) the strongest correlation was the maximum temperature for those cities. \n",
    "2. There were difference between the hemispheres and different variables. For example, cloudiness in the northern hemisphere had an r-value of near 0 where cloudiness in the southern hemisphere showed some correlation with an r-value around .4. \n",
    "3. Latitude and the effect of humidity for both the southern hemisphere and northern hemisphere had a very similar r-value. Demonstrating the humidity has about the same effect in both hemispheres. "
   ]
  },
  {
   "cell_type": "code",
   "execution_count": null,
   "metadata": {},
   "outputs": [],
   "source": []
  }
 ],
 "metadata": {
  "anaconda-cloud": {},
  "kernel_info": {
   "name": "python3"
  },
  "kernelspec": {
   "display_name": "Python 3",
   "language": "python",
   "name": "python3"
  },
  "language_info": {
   "codemirror_mode": {
    "name": "ipython",
    "version": 3
   },
   "file_extension": ".py",
   "mimetype": "text/x-python",
   "name": "python",
   "nbconvert_exporter": "python",
   "pygments_lexer": "ipython3",
   "version": "3.8.5"
  },
  "latex_envs": {
   "LaTeX_envs_menu_present": true,
   "autoclose": false,
   "autocomplete": true,
   "bibliofile": "biblio.bib",
   "cite_by": "apalike",
   "current_citInitial": 1,
   "eqLabelWithNumbers": true,
   "eqNumInitial": 1,
   "hotkeys": {
    "equation": "Ctrl-E",
    "itemize": "Ctrl-I"
   },
   "labels_anchors": false,
   "latex_user_defs": false,
   "report_style_numbering": false,
   "user_envs_cfg": false
  },
  "nteract": {
   "version": "0.12.3"
  }
 },
 "nbformat": 4,
 "nbformat_minor": 2
}
